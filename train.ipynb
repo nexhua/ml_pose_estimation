{
 "cells": [
  {
   "cell_type": "code",
   "execution_count": 1,
   "metadata": {},
   "outputs": [],
   "source": [
    "import tensorflow as tf\n",
    "import model_gen\n",
    "import os\n",
    "import configurations\n",
    "from preprocessing import Label\n",
    "import numpy as np\n",
    "import pandas as pd\n",
    "from keras.preprocessing.image import ImageDataGenerator\n",
    "import math\n",
    "import matplotlib.pyplot as plt\n",
    "import utility\n",
    "import cv2"
   ]
  },
  {
   "cell_type": "code",
   "execution_count": 2,
   "metadata": {},
   "outputs": [],
   "source": [
    "gpus = tf.config.experimental.list_physical_devices(\"GPU\")\n",
    "for gpu in gpus:\n",
    "    tf.config.experimental.set_memory_growth(gpu, True)"
   ]
  },
  {
   "cell_type": "code",
   "execution_count": 3,
   "metadata": {},
   "outputs": [],
   "source": [
    "config = configurations.Configuration()\n",
    "label = Label()\n",
    "util = utility.Util()"
   ]
  },
  {
   "cell_type": "code",
   "execution_count": 4,
   "metadata": {},
   "outputs": [],
   "source": [
    "df = util.get_dataframe()"
   ]
  },
  {
   "cell_type": "code",
   "execution_count": 5,
   "metadata": {},
   "outputs": [
    {
     "name": "stdout",
     "output_type": "stream",
     "text": [
      "<class 'pandas.core.frame.DataFrame'>\n",
      "RangeIndex: 14679 entries, 0 to 14678\n",
      "Data columns (total 35 columns):\n",
      " #   Column      Non-Null Count  Dtype \n",
      "---  ------      --------------  ----- \n",
      " 0   file_names  14679 non-null  object\n",
      " 1   x_1         14679 non-null  int32 \n",
      " 2   y_1         14679 non-null  int32 \n",
      " 3   x_2         14679 non-null  int32 \n",
      " 4   y_2         14679 non-null  int32 \n",
      " 5   x_3         14679 non-null  int32 \n",
      " 6   y_3         14679 non-null  int32 \n",
      " 7   x_4         14679 non-null  int32 \n",
      " 8   y_4         14679 non-null  int32 \n",
      " 9   x_5         14679 non-null  int32 \n",
      " 10  y_5         14679 non-null  int32 \n",
      " 11  x_6         14679 non-null  int32 \n",
      " 12  y_6         14679 non-null  int32 \n",
      " 13  x_7         14679 non-null  int32 \n",
      " 14  y_7         14679 non-null  int32 \n",
      " 15  x_8         14679 non-null  int32 \n",
      " 16  y_8         14679 non-null  int32 \n",
      " 17  x_9         14679 non-null  int32 \n",
      " 18  y_9         14679 non-null  int32 \n",
      " 19  x_10        14679 non-null  int32 \n",
      " 20  y_10        14679 non-null  int32 \n",
      " 21  x_11        14679 non-null  int32 \n",
      " 22  y_11        14679 non-null  int32 \n",
      " 23  x_12        14679 non-null  int32 \n",
      " 24  y_12        14679 non-null  int32 \n",
      " 25  x_13        14679 non-null  int32 \n",
      " 26  y_13        14679 non-null  int32 \n",
      " 27  x_14        14679 non-null  int32 \n",
      " 28  y_14        14679 non-null  int32 \n",
      " 29  x_15        14679 non-null  int32 \n",
      " 30  y_15        14679 non-null  int32 \n",
      " 31  x_16        14679 non-null  int32 \n",
      " 32  y_16        14679 non-null  int32 \n",
      " 33  x_17        14679 non-null  int32 \n",
      " 34  y_17        14679 non-null  int32 \n",
      "dtypes: int32(34), object(1)\n",
      "memory usage: 2.0+ MB\n"
     ]
    }
   ],
   "source": [
    "df.info()"
   ]
  },
  {
   "cell_type": "code",
   "execution_count": 6,
   "metadata": {},
   "outputs": [
    {
     "name": "stdout",
     "output_type": "stream",
     "text": [
      "Found 11744 validated image filenames.\n",
      "Found 2935 validated image filenames.\n"
     ]
    }
   ],
   "source": [
    "datagen = ImageDataGenerator(rescale=1./255,validation_split=config.VALIDATION_RATIO)\n",
    "\n",
    "train_generator = datagen.flow_from_dataframe(\n",
    "    dataframe=df,\n",
    "    directory=os.path.join(config.IMAGES_BASE_DIR, \"train\"),\n",
    "    x_col=\"file_names\",\n",
    "    y_col=util.get_column_names(),\n",
    "    target_size=config.INPUT_DIMS[:2],\n",
    "    class_mode=\"multi_output\",\n",
    "    batch_size=config.BATCH_SIZE,\n",
    "    subset=\"training\"\n",
    ")\n",
    "\n",
    "validation_generator = datagen.flow_from_dataframe(\n",
    "    dataframe=df,\n",
    "    directory=os.path.join(config.IMAGES_BASE_DIR, \"train\"),\n",
    "    x_col=\"file_names\",\n",
    "    y_col=util.get_column_names(),\n",
    "    target_size=config.INPUT_DIMS[:2],\n",
    "    class_mode=\"multi_output\",\n",
    "    batch_size=config.BATCH_SIZE,\n",
    "    subset=\"validation\"\n",
    ")"
   ]
  },
  {
   "cell_type": "code",
   "execution_count": 7,
   "metadata": {},
   "outputs": [],
   "source": [
    "STEPS_PER_EPOCH = (config.LEN_TRAIN_SPLIT // config.BATCH_SIZE)\n",
    "VALIDATION_STEPS = (config.LEN_VALIDATION_SPLIT // config.BATCH_SIZE)"
   ]
  },
  {
   "cell_type": "code",
   "execution_count": 8,
   "metadata": {},
   "outputs": [
    {
     "data": {
      "text/plain": [
       "367"
      ]
     },
     "execution_count": 8,
     "metadata": {},
     "output_type": "execute_result"
    }
   ],
   "source": [
    "STEPS_PER_EPOCH"
   ]
  },
  {
   "cell_type": "code",
   "execution_count": 9,
   "metadata": {},
   "outputs": [
    {
     "data": {
      "text/plain": [
       "91"
      ]
     },
     "execution_count": 9,
     "metadata": {},
     "output_type": "execute_result"
    }
   ],
   "source": [
    "VALIDATION_STEPS"
   ]
  },
  {
   "cell_type": "code",
   "execution_count": 10,
   "metadata": {},
   "outputs": [],
   "source": [
    "model_gen = model_gen.Model()"
   ]
  },
  {
   "cell_type": "code",
   "execution_count": 12,
   "metadata": {},
   "outputs": [
    {
     "name": "stdout",
     "output_type": "stream",
     "text": [
      "Downloading data from https://storage.googleapis.com/tensorflow/keras-applications/resnet/resnet50_weights_tf_dim_ordering_tf_kernels_notop.h5\n",
      "94765736/94765736 [==============================] - 18s 0us/step\n"
     ]
    }
   ],
   "source": [
    "model = tf.keras.models.load_model(\"models/model_v6/\")\n",
    "#model = model_gen.create_model_with_vgg16()"
   ]
  },
  {
   "cell_type": "code",
   "execution_count": 13,
   "metadata": {},
   "outputs": [
    {
     "name": "stdout",
     "output_type": "stream",
     "text": [
      "Model: \"sequential\"\n",
      "_________________________________________________________________\n",
      " Layer (type)                Output Shape              Param #   \n",
      "=================================================================\n",
      " resnet50 (Functional)       (None, 7, 7, 2048)        23587712  \n",
      "                                                                 \n",
      " flatten (Flatten)           (None, 100352)            0         \n",
      "                                                                 \n",
      " dense (Dense)               (None, 512)               51380736  \n",
      "                                                                 \n",
      " dense_1 (Dense)             (None, 256)               131328    \n",
      "                                                                 \n",
      " dense_2 (Dense)             (None, 34)                8738      \n",
      "                                                                 \n",
      "=================================================================\n",
      "Total params: 75,108,514\n",
      "Trainable params: 51,520,802\n",
      "Non-trainable params: 23,587,712\n",
      "_________________________________________________________________\n"
     ]
    }
   ],
   "source": [
    "model.summary()"
   ]
  },
  {
   "cell_type": "code",
   "execution_count": 14,
   "metadata": {},
   "outputs": [],
   "source": [
    "model_gen.compile(model)"
   ]
  },
  {
   "cell_type": "code",
   "execution_count": 15,
   "metadata": {},
   "outputs": [
    {
     "name": "stdout",
     "output_type": "stream",
     "text": [
      "Epoch 1/10\n",
      "367/367 [==============================] - 270s 705ms/step - loss: 331.2482 - val_loss: 308.7142\n",
      "Epoch 2/10\n",
      "367/367 [==============================] - 200s 545ms/step - loss: 308.9020 - val_loss: 304.0162\n",
      "Epoch 3/10\n",
      "367/367 [==============================] - 202s 551ms/step - loss: 299.9336 - val_loss: 300.3633\n",
      "Epoch 4/10\n",
      "367/367 [==============================] - 195s 532ms/step - loss: 294.4354 - val_loss: 291.8116\n",
      "Epoch 5/10\n",
      "367/367 [==============================] - 196s 533ms/step - loss: 291.2420 - val_loss: 303.3437\n",
      "Epoch 6/10\n",
      "367/367 [==============================] - 191s 521ms/step - loss: 288.4774 - val_loss: 284.7462\n",
      "Epoch 7/10\n",
      "367/367 [==============================] - 182s 496ms/step - loss: 288.4694 - val_loss: 297.8944\n",
      "Epoch 8/10\n",
      "367/367 [==============================] - 182s 495ms/step - loss: 282.5912 - val_loss: 289.6577\n",
      "Epoch 9/10\n",
      "367/367 [==============================] - 183s 499ms/step - loss: 278.1536 - val_loss: 307.3056\n",
      "Epoch 10/10\n",
      "367/367 [==============================] - 195s 532ms/step - loss: 275.8948 - val_loss: 288.9216\n"
     ]
    }
   ],
   "source": [
    "history = model.fit(\n",
    "    x=train_generator,\n",
    "    batch_size=config.BATCH_SIZE,\n",
    "    epochs=config.EPOCHS,\n",
    "    validation_data=validation_generator,\n",
    "    steps_per_epoch=STEPS_PER_EPOCH,\n",
    "    validation_steps=VALIDATION_STEPS\n",
    ")"
   ]
  },
  {
   "cell_type": "code",
   "execution_count": 16,
   "metadata": {},
   "outputs": [
    {
     "name": "stderr",
     "output_type": "stream",
     "text": [
      "WARNING:absl:Found untraced functions such as _jit_compiled_convolution_op, _jit_compiled_convolution_op, _jit_compiled_convolution_op, _jit_compiled_convolution_op, _jit_compiled_convolution_op while saving (showing 5 of 53). These functions will not be directly callable after loading.\n"
     ]
    },
    {
     "name": "stdout",
     "output_type": "stream",
     "text": [
      "INFO:tensorflow:Assets written to: ./models/model_v9\\assets\n"
     ]
    },
    {
     "name": "stderr",
     "output_type": "stream",
     "text": [
      "INFO:tensorflow:Assets written to: ./models/model_v9\\assets\n"
     ]
    }
   ],
   "source": [
    "model_count = len(os.listdir(\"models\")) + 1\n",
    "model.save(\"./models/model_v{0}\".format(model_count))"
   ]
  },
  {
   "cell_type": "code",
   "execution_count": 17,
   "metadata": {},
   "outputs": [
    {
     "data": {
      "text/plain": [
       "dict_keys(['loss', 'val_loss'])"
      ]
     },
     "execution_count": 17,
     "metadata": {},
     "output_type": "execute_result"
    }
   ],
   "source": [
    "history.history.keys()"
   ]
  },
  {
   "cell_type": "code",
   "execution_count": 18,
   "metadata": {},
   "outputs": [
    {
     "data": {
      "image/png": "[encoded data removed]",
      "text/plain": [
       "<Figure size 432x288 with 1 Axes>"
      ]
     },
     "metadata": {
      "needs_background": "light"
     },
     "output_type": "display_data"
    },
    {
     "data": {
      "text/plain": [
       "<Figure size 432x288 with 0 Axes>"
      ]
     },
     "metadata": {},
     "output_type": "display_data"
    }
   ],
   "source": [
    "loss = history.history['loss']\n",
    "val_loss = history.history['val_loss']\n",
    "\n",
    "epochs = range(1, len(loss) + 1)\n",
    "\n",
    "plt.plot(epochs, loss, 'bo', label='Training loss')\n",
    "plt.plot(epochs, val_loss, 'b', label='Validation loss')\n",
    "plt.title('Training and validation losses')\n",
    "plt.legend()\n",
    "plt.figure()\n",
    "plt.show()\n"
   ]
  }
 ],
 "metadata": {
  "kernelspec": {
   "display_name": "base",
   "language": "python",
   "name": "python3"
  },
  "language_info": {
   "codemirror_mode": {
    "name": "ipython",
    "version": 3
   },
   "file_extension": ".py",
   "mimetype": "text/x-python",
   "name": "python",
   "nbconvert_exporter": "python",
   "pygments_lexer": "ipython3",
   "version": "3.9.15"
  },
  "orig_nbformat": 4,
  "vscode": {
   "interpreter": {
    "hash": "47331e52e889b4e351db732566d57bcba7f5f979e5e0b22c6ea30241b064d76d"
   }
  }
 },
 "nbformat": 4,
 "nbformat_minor": 2
}
