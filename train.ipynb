{
 "cells": [
  {
   "cell_type": "code",
   "execution_count": 1,
   "metadata": {},
   "outputs": [],
   "source": [
    "import tensorflow as tf\n",
    "import model_gen\n",
    "import os\n",
    "import configurations\n",
    "from preprocessing import Label\n",
    "import numpy as np\n",
    "import pandas as pd\n",
    "from keras.preprocessing.image import ImageDataGenerator\n",
    "import math\n",
    "import matplotlib.pyplot as plt\n",
    "import utility\n",
    "import cv2"
   ]
  },
  {
   "cell_type": "code",
   "execution_count": 2,
   "metadata": {},
   "outputs": [],
   "source": [
    "gpus = tf.config.experimental.list_physical_devices(\"GPU\")\n",
    "for gpu in gpus:\n",
    "    tf.config.experimental.set_memory_growth(gpu, True)"
   ]
  },
  {
   "cell_type": "code",
   "execution_count": 3,
   "metadata": {},
   "outputs": [],
   "source": [
    "config = configurations.Configuration()\n",
    "label = Label()\n",
    "util = utility.Util()"
   ]
  },
  {
   "cell_type": "code",
   "execution_count": 4,
   "metadata": {},
   "outputs": [],
   "source": [
    "df = util.get_dataframe()"
   ]
  },
  {
   "cell_type": "code",
   "execution_count": 5,
   "metadata": {},
   "outputs": [
    {
     "name": "stdout",
     "output_type": "stream",
     "text": [
      "<class 'pandas.core.frame.DataFrame'>\n",
      "RangeIndex: 14679 entries, 0 to 14678\n",
      "Data columns (total 35 columns):\n",
      " #   Column      Non-Null Count  Dtype \n",
      "---  ------      --------------  ----- \n",
      " 0   file_names  14679 non-null  object\n",
      " 1   x_1         14679 non-null  int32 \n",
      " 2   y_1         14679 non-null  int32 \n",
      " 3   x_2         14679 non-null  int32 \n",
      " 4   y_2         14679 non-null  int32 \n",
      " 5   x_3         14679 non-null  int32 \n",
      " 6   y_3         14679 non-null  int32 \n",
      " 7   x_4         14679 non-null  int32 \n",
      " 8   y_4         14679 non-null  int32 \n",
      " 9   x_5         14679 non-null  int32 \n",
      " 10  y_5         14679 non-null  int32 \n",
      " 11  x_6         14679 non-null  int32 \n",
      " 12  y_6         14679 non-null  int32 \n",
      " 13  x_7         14679 non-null  int32 \n",
      " 14  y_7         14679 non-null  int32 \n",
      " 15  x_8         14679 non-null  int32 \n",
      " 16  y_8         14679 non-null  int32 \n",
      " 17  x_9         14679 non-null  int32 \n",
      " 18  y_9         14679 non-null  int32 \n",
      " 19  x_10        14679 non-null  int32 \n",
      " 20  y_10        14679 non-null  int32 \n",
      " 21  x_11        14679 non-null  int32 \n",
      " 22  y_11        14679 non-null  int32 \n",
      " 23  x_12        14679 non-null  int32 \n",
      " 24  y_12        14679 non-null  int32 \n",
      " 25  x_13        14679 non-null  int32 \n",
      " 26  y_13        14679 non-null  int32 \n",
      " 27  x_14        14679 non-null  int32 \n",
      " 28  y_14        14679 non-null  int32 \n",
      " 29  x_15        14679 non-null  int32 \n",
      " 30  y_15        14679 non-null  int32 \n",
      " 31  x_16        14679 non-null  int32 \n",
      " 32  y_16        14679 non-null  int32 \n",
      " 33  x_17        14679 non-null  int32 \n",
      " 34  y_17        14679 non-null  int32 \n",
      "dtypes: int32(34), object(1)\n",
      "memory usage: 2.0+ MB\n"
     ]
    }
   ],
   "source": [
    "df.info()"
   ]
  },
  {
   "cell_type": "code",
   "execution_count": 6,
   "metadata": {},
   "outputs": [
    {
     "name": "stdout",
     "output_type": "stream",
     "text": [
      "Found 11744 validated image filenames.\n",
      "Found 2935 validated image filenames.\n"
     ]
    }
   ],
   "source": [
    "datagen = ImageDataGenerator(rescale=1./255,validation_split=config.VALIDATION_RATIO)\n",
    "\n",
    "train_generator = datagen.flow_from_dataframe(\n",
    "    dataframe=df,\n",
    "    directory=os.path.join(config.IMAGES_BASE_DIR, \"train\"),\n",
    "    x_col=\"file_names\",\n",
    "    y_col=util.get_column_names(),\n",
    "    target_size=config.INPUT_DIMS[:2],\n",
    "    class_mode=\"multi_output\",\n",
    "    batch_size=config.BATCH_SIZE,\n",
    "    subset=\"training\"\n",
    ")\n",
    "\n",
    "validation_generator = datagen.flow_from_dataframe(\n",
    "    dataframe=df,\n",
    "    directory=os.path.join(config.IMAGES_BASE_DIR, \"train\"),\n",
    "    x_col=\"file_names\",\n",
    "    y_col=util.get_column_names(),\n",
    "    target_size=config.INPUT_DIMS[:2],\n",
    "    class_mode=\"multi_output\",\n",
    "    batch_size=config.BATCH_SIZE,\n",
    "    subset=\"validation\"\n",
    ")"
   ]
  },
  {
   "cell_type": "code",
   "execution_count": 7,
   "metadata": {},
   "outputs": [],
   "source": [
    "STEPS_PER_EPOCH = (config.LEN_TRAIN_SPLIT // config.BATCH_SIZE)\n",
    "VALIDATION_STEPS = (config.LEN_VALIDATION_SPLIT // config.BATCH_SIZE)"
   ]
  },
  {
   "cell_type": "code",
   "execution_count": 8,
   "metadata": {},
   "outputs": [
    {
     "data": {
      "text/plain": [
       "367"
      ]
     },
     "execution_count": 8,
     "metadata": {},
     "output_type": "execute_result"
    }
   ],
   "source": [
    "STEPS_PER_EPOCH"
   ]
  },
  {
   "cell_type": "code",
   "execution_count": 9,
   "metadata": {},
   "outputs": [
    {
     "data": {
      "text/plain": [
       "91"
      ]
     },
     "execution_count": 9,
     "metadata": {},
     "output_type": "execute_result"
    }
   ],
   "source": [
    "VALIDATION_STEPS"
   ]
  },
  {
   "cell_type": "code",
   "execution_count": 10,
   "metadata": {},
   "outputs": [],
   "source": [
    "model_gen = model_gen.Model()"
   ]
  },
  {
   "cell_type": "code",
   "execution_count": 11,
   "metadata": {},
   "outputs": [],
   "source": [
    "model = tf.keras.models.load_model(\"models/model_v4/\")"
   ]
  },
  {
   "cell_type": "code",
   "execution_count": 12,
   "metadata": {},
   "outputs": [
    {
     "name": "stdout",
     "output_type": "stream",
     "text": [
      "Model: \"sequential\"\n",
      "_________________________________________________________________\n",
      " Layer (type)                Output Shape              Param #   \n",
      "=================================================================\n",
      " conv2d (Conv2D)             (None, 222, 222, 32)      896       \n",
      "                                                                 \n",
      " max_pooling2d (MaxPooling2D  (None, 111, 111, 32)     0         \n",
      " )                                                               \n",
      "                                                                 \n",
      " conv2d_1 (Conv2D)           (None, 109, 109, 64)      18496     \n",
      "                                                                 \n",
      " max_pooling2d_1 (MaxPooling  (None, 54, 54, 64)       0         \n",
      " 2D)                                                             \n",
      "                                                                 \n",
      " conv2d_2 (Conv2D)           (None, 52, 52, 128)       73856     \n",
      "                                                                 \n",
      " max_pooling2d_2 (MaxPooling  (None, 26, 26, 128)      0         \n",
      " 2D)                                                             \n",
      "                                                                 \n",
      " conv2d_3 (Conv2D)           (None, 24, 24, 128)       147584    \n",
      "                                                                 \n",
      " max_pooling2d_3 (MaxPooling  (None, 12, 12, 128)      0         \n",
      " 2D)                                                             \n",
      "                                                                 \n",
      " flatten (Flatten)           (None, 18432)             0         \n",
      "                                                                 \n",
      " dense (Dense)               (None, 512)               9437696   \n",
      "                                                                 \n",
      " dense_1 (Dense)             (None, 34)                17442     \n",
      "                                                                 \n",
      "=================================================================\n",
      "Total params: 9,695,970\n",
      "Trainable params: 9,695,970\n",
      "Non-trainable params: 0\n",
      "_________________________________________________________________\n"
     ]
    }
   ],
   "source": [
    "model.summary()"
   ]
  },
  {
   "cell_type": "code",
   "execution_count": 13,
   "metadata": {},
   "outputs": [],
   "source": [
    "model_gen.compile(model)"
   ]
  },
  {
   "cell_type": "code",
   "execution_count": 14,
   "metadata": {},
   "outputs": [
    {
     "name": "stdout",
     "output_type": "stream",
     "text": [
      "Epoch 1/15\n",
      "367/367 [==============================] - 238s 619ms/step - loss: 100516.9062 - mean_absolute_error: 246.2055 - mean_squared_error: 100516.9062 - val_loss: 123504.3203 - val_mean_absolute_error: 274.2645 - val_mean_squared_error: 123504.3203\n",
      "Epoch 2/15\n",
      "367/367 [==============================] - 208s 567ms/step - loss: 91407.9453 - mean_absolute_error: 233.1469 - mean_squared_error: 91407.9453 - val_loss: 123403.0078 - val_mean_absolute_error: 268.3532 - val_mean_squared_error: 123403.0078\n",
      "Epoch 3/15\n",
      "367/367 [==============================] - 207s 565ms/step - loss: 80490.3906 - mean_absolute_error: 217.2956 - mean_squared_error: 80490.3906 - val_loss: 127635.8047 - val_mean_absolute_error: 276.6281 - val_mean_squared_error: 127635.8047\n",
      "Epoch 4/15\n",
      "367/367 [==============================] - 205s 557ms/step - loss: 68232.9609 - mean_absolute_error: 198.5510 - mean_squared_error: 68232.9609 - val_loss: 132377.1875 - val_mean_absolute_error: 274.2812 - val_mean_squared_error: 132377.1875\n",
      "Epoch 5/15\n",
      "367/367 [==============================] - 218s 595ms/step - loss: 54176.8828 - mean_absolute_error: 176.6425 - mean_squared_error: 54176.8828 - val_loss: 135460.1406 - val_mean_absolute_error: 277.5659 - val_mean_squared_error: 135460.1406\n",
      "Epoch 6/15\n",
      "367/367 [==============================] - 217s 590ms/step - loss: 41931.5703 - mean_absolute_error: 154.4203 - mean_squared_error: 41931.5703 - val_loss: 130334.7500 - val_mean_absolute_error: 270.9235 - val_mean_squared_error: 130334.7500\n",
      "Epoch 7/15\n",
      "367/367 [==============================] - 202s 549ms/step - loss: 30705.2090 - mean_absolute_error: 131.7280 - mean_squared_error: 30705.2090 - val_loss: 134316.7188 - val_mean_absolute_error: 276.3635 - val_mean_squared_error: 134316.7188\n",
      "Epoch 8/15\n",
      "367/367 [==============================] - 207s 563ms/step - loss: 22854.6426 - mean_absolute_error: 113.0039 - mean_squared_error: 22854.6426 - val_loss: 134978.5781 - val_mean_absolute_error: 278.8571 - val_mean_squared_error: 134978.5781\n",
      "Epoch 9/15\n",
      "367/367 [==============================] - 200s 544ms/step - loss: 16964.3340 - mean_absolute_error: 96.0603 - mean_squared_error: 16964.3340 - val_loss: 134303.6250 - val_mean_absolute_error: 274.0842 - val_mean_squared_error: 134303.6250\n",
      "Epoch 10/15\n",
      "367/367 [==============================] - 197s 536ms/step - loss: 13715.5479 - mean_absolute_error: 86.1430 - mean_squared_error: 13715.5479 - val_loss: 137174.3906 - val_mean_absolute_error: 275.7598 - val_mean_squared_error: 137174.3906\n",
      "Epoch 11/15\n",
      "367/367 [==============================] - 201s 546ms/step - loss: 11495.3320 - mean_absolute_error: 77.7449 - mean_squared_error: 11495.3320 - val_loss: 136662.6875 - val_mean_absolute_error: 277.2255 - val_mean_squared_error: 136662.6875\n",
      "Epoch 12/15\n",
      "367/367 [==============================] - 207s 563ms/step - loss: 10221.7578 - mean_absolute_error: 73.2175 - mean_squared_error: 10221.7578 - val_loss: 134317.5312 - val_mean_absolute_error: 276.0373 - val_mean_squared_error: 134317.5312\n",
      "Epoch 13/15\n",
      "367/367 [==============================] - 201s 548ms/step - loss: 9108.3193 - mean_absolute_error: 68.1247 - mean_squared_error: 9108.3193 - val_loss: 135401.7031 - val_mean_absolute_error: 274.9983 - val_mean_squared_error: 135401.7031\n",
      "Epoch 14/15\n",
      "367/367 [==============================] - 199s 541ms/step - loss: 7937.6792 - mean_absolute_error: 63.3911 - mean_squared_error: 7937.6792 - val_loss: 137273.6094 - val_mean_absolute_error: 276.3865 - val_mean_squared_error: 137273.6094\n",
      "Epoch 15/15\n",
      "367/367 [==============================] - 206s 561ms/step - loss: 7388.0884 - mean_absolute_error: 60.6726 - mean_squared_error: 7388.0884 - val_loss: 134015.4844 - val_mean_absolute_error: 274.6708 - val_mean_squared_error: 134015.4844\n"
     ]
    }
   ],
   "source": [
    "history = model.fit(\n",
    "    x=train_generator,\n",
    "    batch_size=config.BATCH_SIZE,\n",
    "    epochs=config.EPOCHS,\n",
    "    validation_data=validation_generator,\n",
    "    steps_per_epoch=STEPS_PER_EPOCH,\n",
    "    validation_steps=VALIDATION_STEPS\n",
    ")"
   ]
  },
  {
   "cell_type": "code",
   "execution_count": 15,
   "metadata": {},
   "outputs": [
    {
     "name": "stderr",
     "output_type": "stream",
     "text": [
      "WARNING:absl:Found untraced functions such as _jit_compiled_convolution_op, _jit_compiled_convolution_op, _jit_compiled_convolution_op, _jit_compiled_convolution_op while saving (showing 4 of 4). These functions will not be directly callable after loading.\n"
     ]
    },
    {
     "name": "stdout",
     "output_type": "stream",
     "text": [
      "INFO:tensorflow:Assets written to: model_v5\\assets\n"
     ]
    },
    {
     "name": "stderr",
     "output_type": "stream",
     "text": [
      "INFO:tensorflow:Assets written to: model_v5\\assets\n"
     ]
    }
   ],
   "source": [
    "model.save(\"model_v5\")"
   ]
  },
  {
   "cell_type": "code",
   "execution_count": 16,
   "metadata": {},
   "outputs": [
    {
     "data": {
      "text/plain": [
       "dict_keys(['loss', 'mean_absolute_error', 'mean_squared_error', 'val_loss', 'val_mean_absolute_error', 'val_mean_squared_error'])"
      ]
     },
     "execution_count": 16,
     "metadata": {},
     "output_type": "execute_result"
    }
   ],
   "source": [
    "history.history.keys()"
   ]
  },
  {
   "cell_type": "code",
   "execution_count": 17,
   "metadata": {},
   "outputs": [
    {
     "data": {
      "image/png": "[encoded data removed]",
      "text/plain": [
       "<Figure size 432x288 with 1 Axes>"
      ]
     },
     "metadata": {
      "needs_background": "light"
     },
     "output_type": "display_data"
    },
    {
     "data": {
      "image/png": "[encoded data removed]",
      "text/plain": [
       "<Figure size 432x288 with 1 Axes>"
      ]
     },
     "metadata": {
      "needs_background": "light"
     },
     "output_type": "display_data"
    }
   ],
   "source": [
    "loss = history.history['loss']\n",
    "val_loss = history.history['val_loss']\n",
    "mae = history.history[\"mean_absolute_error\"]\n",
    "val_mae = history.history[\"mean_absolute_error\"]\n",
    "\n",
    "epochs = range(1, len(loss) + 1)\n",
    "\n",
    "plt.plot(epochs, loss, 'bo', label='Training loss')\n",
    "plt.plot(epochs, val_loss, 'b', label='Validation loss')\n",
    "plt.title('Training and validation losses')\n",
    "plt.legend()\n",
    "plt.figure()\n",
    "plt.plot(epochs, mae, 'bo', label='Training mean absolute error')\n",
    "plt.plot(epochs, val_mae, 'b', label='Validation mean absolute error')\n",
    "plt.title('Training and validation MAE')\n",
    "plt.legend()\n",
    "plt.show()\n"
   ]
  }
 ],
 "metadata": {
  "kernelspec": {
   "display_name": "base",
   "language": "python",
   "name": "python3"
  },
  "language_info": {
   "codemirror_mode": {
    "name": "ipython",
    "version": 3
   },
   "file_extension": ".py",
   "mimetype": "text/x-python",
   "name": "python",
   "nbconvert_exporter": "python",
   "pygments_lexer": "ipython3",
   "version": "3.9.15"
  },
  "orig_nbformat": 4,
  "vscode": {
   "interpreter": {
    "hash": "47331e52e889b4e351db732566d57bcba7f5f979e5e0b22c6ea30241b064d76d"
   }
  }
 },
 "nbformat": 4,
 "nbformat_minor": 2
}
